{
  "nbformat": 4,
  "nbformat_minor": 0,
  "metadata": {
    "colab": {
      "name": "atcoder",
      "provenance": [],
      "collapsed_sections": [],
      "include_colab_link": true
    },
    "kernelspec": {
      "name": "python3",
      "display_name": "Python 3"
    },
    "accelerator": "GPU"
  },
  "cells": [
    {
      "cell_type": "markdown",
      "metadata": {
        "id": "view-in-github",
        "colab_type": "text"
      },
      "source": [
        "<a href=\"https://colab.research.google.com/github/akemiyamashita/Trainable_Segmentation/blob/master/atcoder.ipynb\" target=\"_parent\"><img src=\"https://colab.research.google.com/assets/colab-badge.svg\" alt=\"Open In Colab\"/></a>"
      ]
    },
    {
      "cell_type": "markdown",
      "metadata": {
        "id": "cAm_dGMi0WWj",
        "colab_type": "text"
      },
      "source": [
        "# 146 ABC"
      ]
    },
    {
      "cell_type": "code",
      "metadata": {
        "id": "f62T1e03i9qe",
        "colab_type": "code",
        "outputId": "2ccdff51-a72a-4a84-d132-8cca1629582d",
        "colab": {
          "base_uri": "https://localhost:8080/",
          "height": 51
        }
      },
      "source": [
        "s = input()\n",
        "if s == 'SUN':\n",
        "  print(7)\n",
        "elif s == 'MON':\n",
        "  print(6)\n",
        "elif s == 'TUE':\n",
        "  print(5)\n",
        "elif s == 'WED':\n",
        "  print(4)\n",
        "elif s == 'THU':\n",
        "  print(3)\n",
        "elif s == 'FRI':\n",
        "  print(2)\n",
        "elif s == 'SAT':\n",
        "  print(1)\n"
      ],
      "execution_count": 0,
      "outputs": [
        {
          "output_type": "stream",
          "text": [
            "SUN\n",
            "7\n"
          ],
          "name": "stdout"
        }
      ]
    },
    {
      "cell_type": "code",
      "metadata": {
        "id": "PnKDG-o2SrsS",
        "colab_type": "code",
        "outputId": "a4411de0-6ec8-4a16-c955-39dd3240d6ef",
        "colab": {
          "base_uri": "https://localhost:8080/",
          "height": 68
        }
      },
      "source": [
        "n =int(input())\n",
        "s = list(str(input()))\n",
        "l = []\n",
        "\n",
        "for i in range(len(s)):\n",
        "  t = ord(s[i])\n",
        "  a = t+n\n",
        "  if a >= 91:\n",
        "    a = a-26\n",
        "  l.append(a)\n",
        "m =[]\n",
        "for j in range(len(l)):\n",
        "  b = chr(l[j])\n",
        "  m.append(b)\n",
        "print(''.join(m))"
      ],
      "execution_count": 0,
      "outputs": [
        {
          "output_type": "stream",
          "text": [
            "2\n",
            "ABCXYZ\n",
            "CDEZAB\n"
          ],
          "name": "stdout"
        }
      ]
    },
    {
      "cell_type": "code",
      "metadata": {
        "id": "CLDiKWPkTc0D",
        "colab_type": "code",
        "outputId": "d63d7657-79d0-4ccd-e6c5-e1cdcb73a378",
        "colab": {
          "base_uri": "https://localhost:8080/",
          "height": 51
        }
      },
      "source": [
        "a,b,x = map(int, input().split())\n",
        "l =0\n",
        "r = pow(10,9)+1\n",
        "\n",
        "while r-l >1:\n",
        "  c = (l+r)//2\n",
        "  n = a*c + b*len(str(c))\n",
        "  if n<=x:\n",
        "    l=c\n",
        "  else:\n",
        "    r=c\n",
        "print(l)"
      ],
      "execution_count": 3,
      "outputs": [
        {
          "output_type": "stream",
          "text": [
            "1234 56789 314159265\n",
            "254309\n"
          ],
          "name": "stdout"
        }
      ]
    },
    {
      "cell_type": "code",
      "metadata": {
        "id": "BDAN1zaxfgpi",
        "colab_type": "code",
        "colab": {
          "base_uri": "https://localhost:8080/",
          "height": 119
        },
        "outputId": "8b93788f-0f01-465c-f0d9-4e5a2633ddcd"
      },
      "source": [
        "n = int(input())\n",
        "adj = [list() for _ in range(n+1)]\n",
        "for i in range(n-1):\n",
        "  a,b = map(int, input().split())\n",
        "  a,b = a-1, b-1\n",
        "  adj[a].append((b,i))\n",
        "  adj[b].append((a,i))\n",
        "\n",
        "root =1\n",
        "parent = [0] * (n+1)\n",
        "order = []\n",
        "stack = [root]\n",
        "while stack:\n",
        "  x = stack.pop()\n",
        "  order.append(x)\n",
        "  for y in adj[x]:\n",
        "    if y ==parent[x]:\n",
        "      continue\n",
        "    parent[y] = x\n",
        "    stack.append(y)\n",
        "color = [-1] * (n+1)\n",
        "for x in order:\n",
        "  ng = color[x]\n",
        "  c = 1\n",
        "  for y in adj[x]:\n",
        "    if y == parent[x]:\n",
        "      continue\n",
        "    if c == ng:\n",
        "      c+=1\n",
        "    color[y] = c\n",
        "    c+=1\n",
        "ans = []\n",
        "append = ans.append\n",
        "for A,B in \n"
      ],
      "execution_count": 8,
      "outputs": [
        {
          "output_type": "stream",
          "text": [
            "3\n",
            "1 2\n",
            "2 3\n",
            "2\n",
            "-1\n",
            "1\n"
          ],
          "name": "stdout"
        }
      ]
    },
    {
      "cell_type": "code",
      "metadata": {
        "id": "1jg6zItBJiQB",
        "colab_type": "code",
        "colab": {}
      },
      "source": [
        ""
      ],
      "execution_count": 0,
      "outputs": []
    }
  ]
}